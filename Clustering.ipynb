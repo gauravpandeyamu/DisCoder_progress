{
 "cells": [
  {
   "cell_type": "code",
   "execution_count": 3,
   "metadata": {
    "collapsed": true
   },
   "outputs": [],
   "source": [
    "import numpy as np\n",
    "import torch\n",
    "import matplotlib\n",
    "%matplotlib inline\n",
    "from matplotlib import pyplot as plt\n",
    "from sklearn.cluster import KMeans"
   ]
  },
  {
   "cell_type": "code",
   "execution_count": 4,
   "metadata": {},
   "outputs": [
    {
     "data": {
      "image/png": "[encoded data removed]",
      "text/plain": [
       "<matplotlib.figure.Figure at 0x2b17dbc2f358>"
      ]
     },
     "metadata": {},
     "output_type": "display_data"
    }
   ],
   "source": [
    "numpc = 1000\n",
    "points1 = torch.randn(numpc,2)*.5+1\n",
    "points2 = torch.randn(numpc,2)-1\n",
    "\n",
    "plt.scatter(points1[:,0], points1[:,1], color='red')\n",
    "plt.scatter(points2[:,0], points2[:,1], color='blue')\n",
    "points = torch.cat((points1, points2), dim=0)\n",
    "labels = np.zeros(2*numpc)\n",
    "labels[1000:]=1"
   ]
  },
  {
   "cell_type": "code",
   "execution_count": 5,
   "metadata": {},
   "outputs": [
    {
     "name": "stderr",
     "output_type": "stream",
     "text": [
      "/u/gpandey1/anaconda3/lib/python3.6/site-packages/sklearn/cluster/k_means_.py:896: RuntimeWarning: Explicit initial center position passed: performing only one init in k-means instead of n_init=10\n",
      "  return_n_iter=True)\n"
     ]
    }
   ],
   "source": [
    "init = np.array([[-5.,0],[0, -5.]])\n",
    "kmeans = KMeans(n_clusters=2, random_state=0, init = init).fit(points)"
   ]
  },
  {
   "cell_type": "code",
   "execution_count": 15,
   "metadata": {},
   "outputs": [
    {
     "name": "stdout",
     "output_type": "stream",
     "text": [
      "Accuracy of K-Means = 95.85%\n"
     ]
    }
   ],
   "source": [
    "accuracy = (kmeans.labels_==labels).sum()/len(labels)*100\n",
    "if accuracy<50:\n",
    "    accuracy = 100-accuracy\n",
    "print(\"Accuracy of K-Means = {}%\".format(accuracy))"
   ]
  },
  {
   "cell_type": "code",
   "execution_count": 16,
   "metadata": {
    "collapsed": true
   },
   "outputs": [],
   "source": [
    "mu = torch.from_numpy(init).float()\n",
    "#Compute the cluster associated with each point by evaluating q(x|c) and then q(c|x)\n",
    "dist = torch.zeros(2*numpc,2)\n",
    "dist[:,0] = ((points - mu[0].unsqueeze(0))**2).sum(1)\n",
    "dist[:,1] = ((points - mu[1].unsqueeze(0))**2).sum(1)\n",
    "\n",
    "#Evaluate q(x|c=0) and q(x|c=1)\n",
    "qx_c = (dist*-1).exp()\n",
    "qx_c = qx_c/qx_c.sum(0, keepdim=True)\n",
    "\n",
    "clus_num = qx_c.max(1)[1]"
   ]
  },
  {
   "cell_type": "code",
   "execution_count": 17,
   "metadata": {
    "collapsed": true
   },
   "outputs": [],
   "source": [
    "for iter in range(10000):\n",
    "    mask = (clus_num==0).unsqueeze(1)\n",
    "    mu_hard0 = (points*mask.float()).sum(0)/mask.sum()\n",
    "    mu_soft0 = (points*qx_c[:,0].unsqueeze(1)).sum(0)\n",
    "    mu[0] = mu[0] + .1*(mu_hard0-mu_soft0)\n",
    "\n",
    "    mask = (clus_num==1).unsqueeze(1)\n",
    "    mu_hard1 = (points*mask.float()).sum(0)/mask.sum()\n",
    "    mu_soft1 = (points*qx_c[:,1].unsqueeze(1)).sum(0)\n",
    "    mu[1] = mu[1] + .1*(mu_hard1-mu_soft1)\n",
    "\n",
    "    #Compute the cluster associated with each point by evaluating q(x|c) and then q(c|x)\n",
    "    dist[:,0] = ((points - mu[0].unsqueeze(0))**2).sum(1)\n",
    "    dist[:,1] = ((points - mu[1].unsqueeze(0))**2).sum(1)\n",
    "\n",
    "    #Evaluate q(x|c=0) and q(x|c=1)\n",
    "    qx_c = (dist*-1).exp()\n",
    "    qx_c = qx_c/qx_c.sum(0, keepdim=True)\n",
    "\n",
    "    clus_num = qx_c.max(1)[1]"
   ]
  },
  {
   "cell_type": "code",
   "execution_count": 18,
   "metadata": {},
   "outputs": [
    {
     "name": "stdout",
     "output_type": "stream",
     "text": [
      "Accuracy=96.3\n"
     ]
    }
   ],
   "source": [
    "accuracy = (clus_num.numpy()==labels).sum()/len(labels)*100\n",
    "if accuracy<50:\n",
    "    accuracy = 100-accuracy\n",
    "print(\"Accuracy of DisCoder={}\".format(accuracy))"
   ]
  },
  {
   "cell_type": "code",
   "execution_count": null,
   "metadata": {
    "collapsed": true
   },
   "outputs": [],
   "source": []
  }
 ],
 "metadata": {
  "kernelspec": {
   "display_name": "Python [conda env:anaconda3]",
   "language": "python",
   "name": "conda-env-anaconda3-py"
  },
  "language_info": {
   "codemirror_mode": {
    "name": "ipython",
    "version": 3
   },
   "file_extension": ".py",
   "mimetype": "text/x-python",
   "name": "python",
   "nbconvert_exporter": "python",
   "pygments_lexer": "ipython3",
   "version": "3.6.3"
  }
 },
 "nbformat": 4,
 "nbformat_minor": 2
}
